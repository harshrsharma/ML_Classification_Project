{
 "cells": [
  {
   "cell_type": "markdown",
   "metadata": {},
   "source": [
    "# Applied Machine Learning Project\n",
    "\n",
    "<font size=4 color='Blue'>Harsh Sharma"
   ]
  },
  {
   "cell_type": "markdown",
   "metadata": {},
   "source": [
    "# Classification Problem : Next month defaulter identification of Credit Card users.\n",
    "In this project we take data of Credit Card users of Taiwan and try to find default payments in next month based on data of last 6 months.\n",
    "\n",
    "The source of the dataset: https://archive.ics.uci.edu/ml/datasets/default+of+credit+card+clients\n",
    "\n",
    "The data includes 30000 listings and 24 columns - including \"default payment next month\", which we are trying to predict."
   ]
  },
  {
   "cell_type": "markdown",
   "metadata": {},
   "source": [
    "# <font size=2, color='Green'> Import required packages"
   ]
  },
  {
   "cell_type": "code",
   "execution_count": 3,
   "metadata": {},
   "outputs": [],
   "source": [
    "import numpy as np\n",
    "import pandas as pd\n",
    "import pickle\n",
    "from sklearn.metrics import accuracy_score\n",
    "from sklearn.preprocessing import OneHotEncoder\n",
    "from sklearn.model_selection import train_test_split\n",
    "from sklearn.preprocessing import MinMaxScaler\n",
    "from sklearn.model_selection import GridSearchCV\n",
    "from sklearn.metrics import classification_report,accuracy_score,precision_score,recall_score,f1_score"
   ]
  },
  {
   "cell_type": "markdown",
   "metadata": {},
   "source": [
    "# <font size=2 color='Green'> Code Used for inserting null values in dataset.\n",
    "\n",
    "`import numpy as np`\n",
    "    \n",
    "`import pandas as pd`\n",
    "\n",
    "`credit = pd.read_excel('Credit_cards.xls')`\n",
    "\n",
    "`new_header = credit.iloc[0] #grab the first row for the header`\n",
    "    \n",
    "`credit = credit[1:] #take the data less the header row`\n",
    "    \n",
    "`credit.columns = new_header #set the header row as the df header`\n",
    "\n",
    "`for i in range(len(credit.columns)-1):`\n",
    "    \n",
    "`   for j in range(1,30000,30):    `\n",
    "    \n",
    "`        if(i%2==0 and i%3==0 and j<29900):`\n",
    "                                             \n",
    "`            credit.iat[j+50,i]=np.nan`\n",
    "                                             \n",
    "`        elif(i%5==0 ):`\n",
    "                                             \n",
    "`            credit.iat[j,i]=np.nan`\n",
    "                                             \n",
    "`        elif(i%7==0 and j>100):`\n",
    "    \n",
    "`            credit.iat[j-75,i]=np.nan`\n",
    "    \n",
    "`        elif(j<29650):`\n",
    "                         \n",
    "`            credit.iat[j+250,i]=np.nan`"
   ]
  },
  {
   "cell_type": "markdown",
   "metadata": {},
   "source": [
    "# <font size=2, color='Green'> Load Credit card dataset."
   ]
  },
  {
   "cell_type": "code",
   "execution_count": 4,
   "metadata": {},
   "outputs": [],
   "source": [
    "credit = pd.read_csv('Credit_card.csv')"
   ]
  },
  {
   "cell_type": "markdown",
   "metadata": {},
   "source": [
    "# <font size=2, color='Green'> Understanding Data"
   ]
  },
  {
   "cell_type": "code",
   "execution_count": 5,
   "metadata": {},
   "outputs": [
    {
     "data": {
      "text/plain": [
       "(30000, 25)"
      ]
     },
     "execution_count": 5,
     "metadata": {},
     "output_type": "execute_result"
    }
   ],
   "source": [
    "credit.shape"
   ]
  },
  {
   "cell_type": "code",
   "execution_count": 6,
   "metadata": {},
   "outputs": [
    {
     "data": {
      "text/html": [
       "<div>\n",
       "<style scoped>\n",
       "    .dataframe tbody tr th:only-of-type {\n",
       "        vertical-align: middle;\n",
       "    }\n",
       "\n",
       "    .dataframe tbody tr th {\n",
       "        vertical-align: top;\n",
       "    }\n",
       "\n",
       "    .dataframe thead th {\n",
       "        text-align: right;\n",
       "    }\n",
       "</style>\n",
       "<table border=\"1\" class=\"dataframe\">\n",
       "  <thead>\n",
       "    <tr style=\"text-align: right;\">\n",
       "      <th></th>\n",
       "      <th>ID</th>\n",
       "      <th>LIMIT_BAL</th>\n",
       "      <th>SEX</th>\n",
       "      <th>EDUCATION</th>\n",
       "      <th>MARRIAGE</th>\n",
       "      <th>AGE</th>\n",
       "      <th>PAY_0</th>\n",
       "      <th>PAY_2</th>\n",
       "      <th>PAY_3</th>\n",
       "      <th>PAY_4</th>\n",
       "      <th>...</th>\n",
       "      <th>BILL_AMT4</th>\n",
       "      <th>BILL_AMT5</th>\n",
       "      <th>BILL_AMT6</th>\n",
       "      <th>PAY_AMT1</th>\n",
       "      <th>PAY_AMT2</th>\n",
       "      <th>PAY_AMT3</th>\n",
       "      <th>PAY_AMT4</th>\n",
       "      <th>PAY_AMT5</th>\n",
       "      <th>PAY_AMT6</th>\n",
       "      <th>default payment next month</th>\n",
       "    </tr>\n",
       "  </thead>\n",
       "  <tbody>\n",
       "    <tr>\n",
       "      <th>0</th>\n",
       "      <td>1.0</td>\n",
       "      <td>20000.0</td>\n",
       "      <td>2.0</td>\n",
       "      <td>2.0</td>\n",
       "      <td>1.0</td>\n",
       "      <td>24.0</td>\n",
       "      <td>2.0</td>\n",
       "      <td>2.0</td>\n",
       "      <td>-1.0</td>\n",
       "      <td>-1.0</td>\n",
       "      <td>...</td>\n",
       "      <td>0.0</td>\n",
       "      <td>0.0</td>\n",
       "      <td>0.0</td>\n",
       "      <td>0.0</td>\n",
       "      <td>689.0</td>\n",
       "      <td>0.0</td>\n",
       "      <td>0.0</td>\n",
       "      <td>0.0</td>\n",
       "      <td>0.0</td>\n",
       "      <td>1</td>\n",
       "    </tr>\n",
       "    <tr>\n",
       "      <th>1</th>\n",
       "      <td>2.0</td>\n",
       "      <td>120000.0</td>\n",
       "      <td>2.0</td>\n",
       "      <td>2.0</td>\n",
       "      <td>2.0</td>\n",
       "      <td>NaN</td>\n",
       "      <td>-1.0</td>\n",
       "      <td>2.0</td>\n",
       "      <td>0.0</td>\n",
       "      <td>0.0</td>\n",
       "      <td>...</td>\n",
       "      <td>NaN</td>\n",
       "      <td>3455.0</td>\n",
       "      <td>3261.0</td>\n",
       "      <td>0.0</td>\n",
       "      <td>1000.0</td>\n",
       "      <td>NaN</td>\n",
       "      <td>1000.0</td>\n",
       "      <td>0.0</td>\n",
       "      <td>2000.0</td>\n",
       "      <td>1</td>\n",
       "    </tr>\n",
       "    <tr>\n",
       "      <th>2</th>\n",
       "      <td>3.0</td>\n",
       "      <td>90000.0</td>\n",
       "      <td>2.0</td>\n",
       "      <td>2.0</td>\n",
       "      <td>2.0</td>\n",
       "      <td>34.0</td>\n",
       "      <td>0.0</td>\n",
       "      <td>0.0</td>\n",
       "      <td>0.0</td>\n",
       "      <td>0.0</td>\n",
       "      <td>...</td>\n",
       "      <td>14331.0</td>\n",
       "      <td>14948.0</td>\n",
       "      <td>15549.0</td>\n",
       "      <td>1518.0</td>\n",
       "      <td>1500.0</td>\n",
       "      <td>1000.0</td>\n",
       "      <td>1000.0</td>\n",
       "      <td>1000.0</td>\n",
       "      <td>5000.0</td>\n",
       "      <td>0</td>\n",
       "    </tr>\n",
       "    <tr>\n",
       "      <th>3</th>\n",
       "      <td>4.0</td>\n",
       "      <td>50000.0</td>\n",
       "      <td>2.0</td>\n",
       "      <td>2.0</td>\n",
       "      <td>1.0</td>\n",
       "      <td>37.0</td>\n",
       "      <td>0.0</td>\n",
       "      <td>0.0</td>\n",
       "      <td>0.0</td>\n",
       "      <td>0.0</td>\n",
       "      <td>...</td>\n",
       "      <td>28314.0</td>\n",
       "      <td>28959.0</td>\n",
       "      <td>29547.0</td>\n",
       "      <td>2000.0</td>\n",
       "      <td>2019.0</td>\n",
       "      <td>1200.0</td>\n",
       "      <td>1100.0</td>\n",
       "      <td>1069.0</td>\n",
       "      <td>1000.0</td>\n",
       "      <td>0</td>\n",
       "    </tr>\n",
       "    <tr>\n",
       "      <th>4</th>\n",
       "      <td>5.0</td>\n",
       "      <td>50000.0</td>\n",
       "      <td>1.0</td>\n",
       "      <td>2.0</td>\n",
       "      <td>1.0</td>\n",
       "      <td>57.0</td>\n",
       "      <td>-1.0</td>\n",
       "      <td>0.0</td>\n",
       "      <td>-1.0</td>\n",
       "      <td>0.0</td>\n",
       "      <td>...</td>\n",
       "      <td>20940.0</td>\n",
       "      <td>19146.0</td>\n",
       "      <td>19131.0</td>\n",
       "      <td>2000.0</td>\n",
       "      <td>36681.0</td>\n",
       "      <td>10000.0</td>\n",
       "      <td>9000.0</td>\n",
       "      <td>689.0</td>\n",
       "      <td>679.0</td>\n",
       "      <td>0</td>\n",
       "    </tr>\n",
       "  </tbody>\n",
       "</table>\n",
       "<p>5 rows × 25 columns</p>\n",
       "</div>"
      ],
      "text/plain": [
       "    ID  LIMIT_BAL  SEX  EDUCATION  MARRIAGE   AGE  PAY_0  PAY_2  PAY_3  PAY_4  \\\n",
       "0  1.0    20000.0  2.0        2.0       1.0  24.0    2.0    2.0   -1.0   -1.0   \n",
       "1  2.0   120000.0  2.0        2.0       2.0   NaN   -1.0    2.0    0.0    0.0   \n",
       "2  3.0    90000.0  2.0        2.0       2.0  34.0    0.0    0.0    0.0    0.0   \n",
       "3  4.0    50000.0  2.0        2.0       1.0  37.0    0.0    0.0    0.0    0.0   \n",
       "4  5.0    50000.0  1.0        2.0       1.0  57.0   -1.0    0.0   -1.0    0.0   \n",
       "\n",
       "   ...  BILL_AMT4  BILL_AMT5  BILL_AMT6  PAY_AMT1  PAY_AMT2  PAY_AMT3  \\\n",
       "0  ...        0.0        0.0        0.0       0.0     689.0       0.0   \n",
       "1  ...        NaN     3455.0     3261.0       0.0    1000.0       NaN   \n",
       "2  ...    14331.0    14948.0    15549.0    1518.0    1500.0    1000.0   \n",
       "3  ...    28314.0    28959.0    29547.0    2000.0    2019.0    1200.0   \n",
       "4  ...    20940.0    19146.0    19131.0    2000.0   36681.0   10000.0   \n",
       "\n",
       "   PAY_AMT4  PAY_AMT5  PAY_AMT6  default payment next month  \n",
       "0       0.0       0.0       0.0                           1  \n",
       "1    1000.0       0.0    2000.0                           1  \n",
       "2    1000.0    1000.0    5000.0                           0  \n",
       "3    1100.0    1069.0    1000.0                           0  \n",
       "4    9000.0     689.0     679.0                           0  \n",
       "\n",
       "[5 rows x 25 columns]"
      ]
     },
     "execution_count": 6,
     "metadata": {},
     "output_type": "execute_result"
    }
   ],
   "source": [
    "credit.head(5)"
   ]
  },
  {
   "cell_type": "markdown",
   "metadata": {},
   "source": [
    "# <font size=2, color='Green'> Checking for null values"
   ]
  },
  {
   "cell_type": "code",
   "execution_count": 7,
   "metadata": {},
   "outputs": [
    {
     "data": {
      "text/plain": [
       "ID                            1000\n",
       "LIMIT_BAL                      989\n",
       "SEX                            989\n",
       "EDUCATION                      989\n",
       "MARRIAGE                       989\n",
       "AGE                           1000\n",
       "PAY_0                          997\n",
       "PAY_2                         1000\n",
       "PAY_3                          989\n",
       "PAY_4                          989\n",
       "PAY_5                         1000\n",
       "PAY_6                          989\n",
       "BILL_AMT1                      997\n",
       "BILL_AMT2                      989\n",
       "BILL_AMT3                     1000\n",
       "BILL_AMT4                     1000\n",
       "BILL_AMT5                      989\n",
       "BILL_AMT6                      989\n",
       "PAY_AMT1                       997\n",
       "PAY_AMT2                       989\n",
       "PAY_AMT3                      1000\n",
       "PAY_AMT4                      1000\n",
       "PAY_AMT5                       989\n",
       "PAY_AMT6                       989\n",
       "default payment next month       0\n",
       "dtype: int64"
      ]
     },
     "execution_count": 7,
     "metadata": {},
     "output_type": "execute_result"
    }
   ],
   "source": [
    "credit.isna().sum() #displays count of null values in all columns"
   ]
  },
  {
   "cell_type": "markdown",
   "metadata": {},
   "source": [
    "# <font size=2, color='Green'> Null values in total rows."
   ]
  },
  {
   "cell_type": "code",
   "execution_count": 8,
   "metadata": {},
   "outputs": [
    {
     "data": {
      "text/plain": [
       "3982"
      ]
     },
     "execution_count": 8,
     "metadata": {},
     "output_type": "execute_result"
    }
   ],
   "source": [
    "credit.isnull().any(axis=1).sum()"
   ]
  },
  {
   "cell_type": "markdown",
   "metadata": {},
   "source": [
    "# <font size=2, color='Green'> Renaming target column"
   ]
  },
  {
   "cell_type": "code",
   "execution_count": 9,
   "metadata": {},
   "outputs": [],
   "source": [
    "credit=credit.rename(columns = {'default payment next month':'will_default'})"
   ]
  },
  {
   "cell_type": "markdown",
   "metadata": {},
   "source": [
    "# <font size=2, color='Green'> Removed all rows which has any column value as Null."
   ]
  },
  {
   "cell_type": "code",
   "execution_count": 10,
   "metadata": {},
   "outputs": [],
   "source": [
    "credit = credit.dropna(how='any',axis=0) "
   ]
  },
  {
   "cell_type": "code",
   "execution_count": 11,
   "metadata": {},
   "outputs": [
    {
     "data": {
      "text/plain": [
       "(26018, 25)"
      ]
     },
     "execution_count": 11,
     "metadata": {},
     "output_type": "execute_result"
    }
   ],
   "source": [
    "credit.shape"
   ]
  },
  {
   "cell_type": "code",
   "execution_count": 12,
   "metadata": {},
   "outputs": [
    {
     "data": {
      "text/plain": [
       "ID              0\n",
       "LIMIT_BAL       0\n",
       "SEX             0\n",
       "EDUCATION       0\n",
       "MARRIAGE        0\n",
       "AGE             0\n",
       "PAY_0           0\n",
       "PAY_2           0\n",
       "PAY_3           0\n",
       "PAY_4           0\n",
       "PAY_5           0\n",
       "PAY_6           0\n",
       "BILL_AMT1       0\n",
       "BILL_AMT2       0\n",
       "BILL_AMT3       0\n",
       "BILL_AMT4       0\n",
       "BILL_AMT5       0\n",
       "BILL_AMT6       0\n",
       "PAY_AMT1        0\n",
       "PAY_AMT2        0\n",
       "PAY_AMT3        0\n",
       "PAY_AMT4        0\n",
       "PAY_AMT5        0\n",
       "PAY_AMT6        0\n",
       "will_default    0\n",
       "dtype: int64"
      ]
     },
     "execution_count": 12,
     "metadata": {},
     "output_type": "execute_result"
    }
   ],
   "source": [
    "credit.isna().sum()"
   ]
  },
  {
   "cell_type": "markdown",
   "metadata": {},
   "source": [
    "# <font size=2, color='Green'> Droping column \"ID\" as it won't be part of any classification algorithm."
   ]
  },
  {
   "cell_type": "code",
   "execution_count": 13,
   "metadata": {},
   "outputs": [],
   "source": [
    "credit.drop('ID',axis=1, inplace=True)"
   ]
  },
  {
   "cell_type": "code",
   "execution_count": 14,
   "metadata": {},
   "outputs": [
    {
     "name": "stdout",
     "output_type": "stream",
     "text": [
      "<class 'pandas.core.frame.DataFrame'>\n",
      "Int64Index: 26018 entries, 0 to 29999\n",
      "Data columns (total 24 columns):\n",
      " #   Column        Non-Null Count  Dtype  \n",
      "---  ------        --------------  -----  \n",
      " 0   LIMIT_BAL     26018 non-null  float64\n",
      " 1   SEX           26018 non-null  float64\n",
      " 2   EDUCATION     26018 non-null  float64\n",
      " 3   MARRIAGE      26018 non-null  float64\n",
      " 4   AGE           26018 non-null  float64\n",
      " 5   PAY_0         26018 non-null  float64\n",
      " 6   PAY_2         26018 non-null  float64\n",
      " 7   PAY_3         26018 non-null  float64\n",
      " 8   PAY_4         26018 non-null  float64\n",
      " 9   PAY_5         26018 non-null  float64\n",
      " 10  PAY_6         26018 non-null  float64\n",
      " 11  BILL_AMT1     26018 non-null  float64\n",
      " 12  BILL_AMT2     26018 non-null  float64\n",
      " 13  BILL_AMT3     26018 non-null  float64\n",
      " 14  BILL_AMT4     26018 non-null  float64\n",
      " 15  BILL_AMT5     26018 non-null  float64\n",
      " 16  BILL_AMT6     26018 non-null  float64\n",
      " 17  PAY_AMT1      26018 non-null  float64\n",
      " 18  PAY_AMT2      26018 non-null  float64\n",
      " 19  PAY_AMT3      26018 non-null  float64\n",
      " 20  PAY_AMT4      26018 non-null  float64\n",
      " 21  PAY_AMT5      26018 non-null  float64\n",
      " 22  PAY_AMT6      26018 non-null  float64\n",
      " 23  will_default  26018 non-null  int64  \n",
      "dtypes: float64(23), int64(1)\n",
      "memory usage: 5.0 MB\n"
     ]
    }
   ],
   "source": [
    "credit.info()"
   ]
  },
  {
   "cell_type": "markdown",
   "metadata": {},
   "source": [
    "# <font size=2, color='Green'> Executing One hot encoder on column \"Marriage\"."
   ]
  },
  {
   "cell_type": "code",
   "execution_count": 15,
   "metadata": {},
   "outputs": [],
   "source": [
    "enc= OneHotEncoder()\n",
    "credit_new= enc.fit_transform(credit[['MARRIAGE']]).toarray()\n",
    "column_name=enc.get_feature_names(['Marriage'])\n",
    "credit_ohc=pd.DataFrame(credit_new,columns=column_name)"
   ]
  },
  {
   "cell_type": "code",
   "execution_count": 16,
   "metadata": {},
   "outputs": [],
   "source": [
    "credit_final=pd.concat([credit.reset_index(),credit_ohc], axis=1, sort=False)"
   ]
  },
  {
   "cell_type": "code",
   "execution_count": 17,
   "metadata": {},
   "outputs": [
    {
     "data": {
      "text/html": [
       "<div>\n",
       "<style scoped>\n",
       "    .dataframe tbody tr th:only-of-type {\n",
       "        vertical-align: middle;\n",
       "    }\n",
       "\n",
       "    .dataframe tbody tr th {\n",
       "        vertical-align: top;\n",
       "    }\n",
       "\n",
       "    .dataframe thead th {\n",
       "        text-align: right;\n",
       "    }\n",
       "</style>\n",
       "<table border=\"1\" class=\"dataframe\">\n",
       "  <thead>\n",
       "    <tr style=\"text-align: right;\">\n",
       "      <th></th>\n",
       "      <th>index</th>\n",
       "      <th>LIMIT_BAL</th>\n",
       "      <th>SEX</th>\n",
       "      <th>EDUCATION</th>\n",
       "      <th>MARRIAGE</th>\n",
       "      <th>AGE</th>\n",
       "      <th>PAY_0</th>\n",
       "      <th>PAY_2</th>\n",
       "      <th>PAY_3</th>\n",
       "      <th>PAY_4</th>\n",
       "      <th>...</th>\n",
       "      <th>PAY_AMT2</th>\n",
       "      <th>PAY_AMT3</th>\n",
       "      <th>PAY_AMT4</th>\n",
       "      <th>PAY_AMT5</th>\n",
       "      <th>PAY_AMT6</th>\n",
       "      <th>will_default</th>\n",
       "      <th>Marriage_0.0</th>\n",
       "      <th>Marriage_1.0</th>\n",
       "      <th>Marriage_2.0</th>\n",
       "      <th>Marriage_3.0</th>\n",
       "    </tr>\n",
       "  </thead>\n",
       "  <tbody>\n",
       "    <tr>\n",
       "      <th>0</th>\n",
       "      <td>0</td>\n",
       "      <td>20000.0</td>\n",
       "      <td>2.0</td>\n",
       "      <td>2.0</td>\n",
       "      <td>1.0</td>\n",
       "      <td>24.0</td>\n",
       "      <td>2.0</td>\n",
       "      <td>2.0</td>\n",
       "      <td>-1.0</td>\n",
       "      <td>-1.0</td>\n",
       "      <td>...</td>\n",
       "      <td>689.0</td>\n",
       "      <td>0.0</td>\n",
       "      <td>0.0</td>\n",
       "      <td>0.0</td>\n",
       "      <td>0.0</td>\n",
       "      <td>1</td>\n",
       "      <td>0.0</td>\n",
       "      <td>1.0</td>\n",
       "      <td>0.0</td>\n",
       "      <td>0.0</td>\n",
       "    </tr>\n",
       "    <tr>\n",
       "      <th>1</th>\n",
       "      <td>2</td>\n",
       "      <td>90000.0</td>\n",
       "      <td>2.0</td>\n",
       "      <td>2.0</td>\n",
       "      <td>2.0</td>\n",
       "      <td>34.0</td>\n",
       "      <td>0.0</td>\n",
       "      <td>0.0</td>\n",
       "      <td>0.0</td>\n",
       "      <td>0.0</td>\n",
       "      <td>...</td>\n",
       "      <td>1500.0</td>\n",
       "      <td>1000.0</td>\n",
       "      <td>1000.0</td>\n",
       "      <td>1000.0</td>\n",
       "      <td>5000.0</td>\n",
       "      <td>0</td>\n",
       "      <td>0.0</td>\n",
       "      <td>0.0</td>\n",
       "      <td>1.0</td>\n",
       "      <td>0.0</td>\n",
       "    </tr>\n",
       "    <tr>\n",
       "      <th>2</th>\n",
       "      <td>3</td>\n",
       "      <td>50000.0</td>\n",
       "      <td>2.0</td>\n",
       "      <td>2.0</td>\n",
       "      <td>1.0</td>\n",
       "      <td>37.0</td>\n",
       "      <td>0.0</td>\n",
       "      <td>0.0</td>\n",
       "      <td>0.0</td>\n",
       "      <td>0.0</td>\n",
       "      <td>...</td>\n",
       "      <td>2019.0</td>\n",
       "      <td>1200.0</td>\n",
       "      <td>1100.0</td>\n",
       "      <td>1069.0</td>\n",
       "      <td>1000.0</td>\n",
       "      <td>0</td>\n",
       "      <td>0.0</td>\n",
       "      <td>1.0</td>\n",
       "      <td>0.0</td>\n",
       "      <td>0.0</td>\n",
       "    </tr>\n",
       "    <tr>\n",
       "      <th>3</th>\n",
       "      <td>4</td>\n",
       "      <td>50000.0</td>\n",
       "      <td>1.0</td>\n",
       "      <td>2.0</td>\n",
       "      <td>1.0</td>\n",
       "      <td>57.0</td>\n",
       "      <td>-1.0</td>\n",
       "      <td>0.0</td>\n",
       "      <td>-1.0</td>\n",
       "      <td>0.0</td>\n",
       "      <td>...</td>\n",
       "      <td>36681.0</td>\n",
       "      <td>10000.0</td>\n",
       "      <td>9000.0</td>\n",
       "      <td>689.0</td>\n",
       "      <td>679.0</td>\n",
       "      <td>0</td>\n",
       "      <td>0.0</td>\n",
       "      <td>1.0</td>\n",
       "      <td>0.0</td>\n",
       "      <td>0.0</td>\n",
       "    </tr>\n",
       "    <tr>\n",
       "      <th>4</th>\n",
       "      <td>5</td>\n",
       "      <td>50000.0</td>\n",
       "      <td>1.0</td>\n",
       "      <td>1.0</td>\n",
       "      <td>2.0</td>\n",
       "      <td>37.0</td>\n",
       "      <td>0.0</td>\n",
       "      <td>0.0</td>\n",
       "      <td>0.0</td>\n",
       "      <td>0.0</td>\n",
       "      <td>...</td>\n",
       "      <td>1815.0</td>\n",
       "      <td>657.0</td>\n",
       "      <td>1000.0</td>\n",
       "      <td>1000.0</td>\n",
       "      <td>800.0</td>\n",
       "      <td>0</td>\n",
       "      <td>0.0</td>\n",
       "      <td>0.0</td>\n",
       "      <td>1.0</td>\n",
       "      <td>0.0</td>\n",
       "    </tr>\n",
       "    <tr>\n",
       "      <th>...</th>\n",
       "      <td>...</td>\n",
       "      <td>...</td>\n",
       "      <td>...</td>\n",
       "      <td>...</td>\n",
       "      <td>...</td>\n",
       "      <td>...</td>\n",
       "      <td>...</td>\n",
       "      <td>...</td>\n",
       "      <td>...</td>\n",
       "      <td>...</td>\n",
       "      <td>...</td>\n",
       "      <td>...</td>\n",
       "      <td>...</td>\n",
       "      <td>...</td>\n",
       "      <td>...</td>\n",
       "      <td>...</td>\n",
       "      <td>...</td>\n",
       "      <td>...</td>\n",
       "      <td>...</td>\n",
       "      <td>...</td>\n",
       "      <td>...</td>\n",
       "    </tr>\n",
       "    <tr>\n",
       "      <th>26013</th>\n",
       "      <td>29995</td>\n",
       "      <td>220000.0</td>\n",
       "      <td>1.0</td>\n",
       "      <td>3.0</td>\n",
       "      <td>1.0</td>\n",
       "      <td>39.0</td>\n",
       "      <td>0.0</td>\n",
       "      <td>0.0</td>\n",
       "      <td>0.0</td>\n",
       "      <td>0.0</td>\n",
       "      <td>...</td>\n",
       "      <td>20000.0</td>\n",
       "      <td>5003.0</td>\n",
       "      <td>3047.0</td>\n",
       "      <td>5000.0</td>\n",
       "      <td>1000.0</td>\n",
       "      <td>0</td>\n",
       "      <td>0.0</td>\n",
       "      <td>1.0</td>\n",
       "      <td>0.0</td>\n",
       "      <td>0.0</td>\n",
       "    </tr>\n",
       "    <tr>\n",
       "      <th>26014</th>\n",
       "      <td>29996</td>\n",
       "      <td>150000.0</td>\n",
       "      <td>1.0</td>\n",
       "      <td>3.0</td>\n",
       "      <td>2.0</td>\n",
       "      <td>43.0</td>\n",
       "      <td>-1.0</td>\n",
       "      <td>-1.0</td>\n",
       "      <td>-1.0</td>\n",
       "      <td>-1.0</td>\n",
       "      <td>...</td>\n",
       "      <td>3526.0</td>\n",
       "      <td>8998.0</td>\n",
       "      <td>129.0</td>\n",
       "      <td>0.0</td>\n",
       "      <td>0.0</td>\n",
       "      <td>0</td>\n",
       "      <td>0.0</td>\n",
       "      <td>0.0</td>\n",
       "      <td>1.0</td>\n",
       "      <td>0.0</td>\n",
       "    </tr>\n",
       "    <tr>\n",
       "      <th>26015</th>\n",
       "      <td>29997</td>\n",
       "      <td>30000.0</td>\n",
       "      <td>1.0</td>\n",
       "      <td>2.0</td>\n",
       "      <td>2.0</td>\n",
       "      <td>37.0</td>\n",
       "      <td>4.0</td>\n",
       "      <td>3.0</td>\n",
       "      <td>2.0</td>\n",
       "      <td>-1.0</td>\n",
       "      <td>...</td>\n",
       "      <td>0.0</td>\n",
       "      <td>22000.0</td>\n",
       "      <td>4200.0</td>\n",
       "      <td>2000.0</td>\n",
       "      <td>3100.0</td>\n",
       "      <td>1</td>\n",
       "      <td>0.0</td>\n",
       "      <td>0.0</td>\n",
       "      <td>1.0</td>\n",
       "      <td>0.0</td>\n",
       "    </tr>\n",
       "    <tr>\n",
       "      <th>26016</th>\n",
       "      <td>29998</td>\n",
       "      <td>80000.0</td>\n",
       "      <td>1.0</td>\n",
       "      <td>3.0</td>\n",
       "      <td>1.0</td>\n",
       "      <td>41.0</td>\n",
       "      <td>1.0</td>\n",
       "      <td>-1.0</td>\n",
       "      <td>0.0</td>\n",
       "      <td>0.0</td>\n",
       "      <td>...</td>\n",
       "      <td>3409.0</td>\n",
       "      <td>1178.0</td>\n",
       "      <td>1926.0</td>\n",
       "      <td>52964.0</td>\n",
       "      <td>1804.0</td>\n",
       "      <td>1</td>\n",
       "      <td>0.0</td>\n",
       "      <td>1.0</td>\n",
       "      <td>0.0</td>\n",
       "      <td>0.0</td>\n",
       "    </tr>\n",
       "    <tr>\n",
       "      <th>26017</th>\n",
       "      <td>29999</td>\n",
       "      <td>50000.0</td>\n",
       "      <td>1.0</td>\n",
       "      <td>2.0</td>\n",
       "      <td>1.0</td>\n",
       "      <td>46.0</td>\n",
       "      <td>0.0</td>\n",
       "      <td>0.0</td>\n",
       "      <td>0.0</td>\n",
       "      <td>0.0</td>\n",
       "      <td>...</td>\n",
       "      <td>1800.0</td>\n",
       "      <td>1430.0</td>\n",
       "      <td>1000.0</td>\n",
       "      <td>1000.0</td>\n",
       "      <td>1000.0</td>\n",
       "      <td>1</td>\n",
       "      <td>0.0</td>\n",
       "      <td>1.0</td>\n",
       "      <td>0.0</td>\n",
       "      <td>0.0</td>\n",
       "    </tr>\n",
       "  </tbody>\n",
       "</table>\n",
       "<p>26018 rows × 29 columns</p>\n",
       "</div>"
      ],
      "text/plain": [
       "       index  LIMIT_BAL  SEX  EDUCATION  MARRIAGE   AGE  PAY_0  PAY_2  PAY_3  \\\n",
       "0          0    20000.0  2.0        2.0       1.0  24.0    2.0    2.0   -1.0   \n",
       "1          2    90000.0  2.0        2.0       2.0  34.0    0.0    0.0    0.0   \n",
       "2          3    50000.0  2.0        2.0       1.0  37.0    0.0    0.0    0.0   \n",
       "3          4    50000.0  1.0        2.0       1.0  57.0   -1.0    0.0   -1.0   \n",
       "4          5    50000.0  1.0        1.0       2.0  37.0    0.0    0.0    0.0   \n",
       "...      ...        ...  ...        ...       ...   ...    ...    ...    ...   \n",
       "26013  29995   220000.0  1.0        3.0       1.0  39.0    0.0    0.0    0.0   \n",
       "26014  29996   150000.0  1.0        3.0       2.0  43.0   -1.0   -1.0   -1.0   \n",
       "26015  29997    30000.0  1.0        2.0       2.0  37.0    4.0    3.0    2.0   \n",
       "26016  29998    80000.0  1.0        3.0       1.0  41.0    1.0   -1.0    0.0   \n",
       "26017  29999    50000.0  1.0        2.0       1.0  46.0    0.0    0.0    0.0   \n",
       "\n",
       "       PAY_4  ...  PAY_AMT2  PAY_AMT3  PAY_AMT4  PAY_AMT5  PAY_AMT6  \\\n",
       "0       -1.0  ...     689.0       0.0       0.0       0.0       0.0   \n",
       "1        0.0  ...    1500.0    1000.0    1000.0    1000.0    5000.0   \n",
       "2        0.0  ...    2019.0    1200.0    1100.0    1069.0    1000.0   \n",
       "3        0.0  ...   36681.0   10000.0    9000.0     689.0     679.0   \n",
       "4        0.0  ...    1815.0     657.0    1000.0    1000.0     800.0   \n",
       "...      ...  ...       ...       ...       ...       ...       ...   \n",
       "26013    0.0  ...   20000.0    5003.0    3047.0    5000.0    1000.0   \n",
       "26014   -1.0  ...    3526.0    8998.0     129.0       0.0       0.0   \n",
       "26015   -1.0  ...       0.0   22000.0    4200.0    2000.0    3100.0   \n",
       "26016    0.0  ...    3409.0    1178.0    1926.0   52964.0    1804.0   \n",
       "26017    0.0  ...    1800.0    1430.0    1000.0    1000.0    1000.0   \n",
       "\n",
       "       will_default  Marriage_0.0  Marriage_1.0  Marriage_2.0  Marriage_3.0  \n",
       "0                 1           0.0           1.0           0.0           0.0  \n",
       "1                 0           0.0           0.0           1.0           0.0  \n",
       "2                 0           0.0           1.0           0.0           0.0  \n",
       "3                 0           0.0           1.0           0.0           0.0  \n",
       "4                 0           0.0           0.0           1.0           0.0  \n",
       "...             ...           ...           ...           ...           ...  \n",
       "26013             0           0.0           1.0           0.0           0.0  \n",
       "26014             0           0.0           0.0           1.0           0.0  \n",
       "26015             1           0.0           0.0           1.0           0.0  \n",
       "26016             1           0.0           1.0           0.0           0.0  \n",
       "26017             1           0.0           1.0           0.0           0.0  \n",
       "\n",
       "[26018 rows x 29 columns]"
      ]
     },
     "execution_count": 17,
     "metadata": {},
     "output_type": "execute_result"
    }
   ],
   "source": [
    "credit_final"
   ]
  },
  {
   "cell_type": "code",
   "execution_count": 18,
   "metadata": {},
   "outputs": [],
   "source": [
    "credit_final.drop(['index','MARRIAGE'],axis=1, inplace=True)"
   ]
  },
  {
   "cell_type": "code",
   "execution_count": 19,
   "metadata": {},
   "outputs": [
    {
     "name": "stdout",
     "output_type": "stream",
     "text": [
      "<class 'pandas.core.frame.DataFrame'>\n",
      "RangeIndex: 26018 entries, 0 to 26017\n",
      "Data columns (total 27 columns):\n",
      " #   Column        Non-Null Count  Dtype  \n",
      "---  ------        --------------  -----  \n",
      " 0   LIMIT_BAL     26018 non-null  float64\n",
      " 1   SEX           26018 non-null  float64\n",
      " 2   EDUCATION     26018 non-null  float64\n",
      " 3   AGE           26018 non-null  float64\n",
      " 4   PAY_0         26018 non-null  float64\n",
      " 5   PAY_2         26018 non-null  float64\n",
      " 6   PAY_3         26018 non-null  float64\n",
      " 7   PAY_4         26018 non-null  float64\n",
      " 8   PAY_5         26018 non-null  float64\n",
      " 9   PAY_6         26018 non-null  float64\n",
      " 10  BILL_AMT1     26018 non-null  float64\n",
      " 11  BILL_AMT2     26018 non-null  float64\n",
      " 12  BILL_AMT3     26018 non-null  float64\n",
      " 13  BILL_AMT4     26018 non-null  float64\n",
      " 14  BILL_AMT5     26018 non-null  float64\n",
      " 15  BILL_AMT6     26018 non-null  float64\n",
      " 16  PAY_AMT1      26018 non-null  float64\n",
      " 17  PAY_AMT2      26018 non-null  float64\n",
      " 18  PAY_AMT3      26018 non-null  float64\n",
      " 19  PAY_AMT4      26018 non-null  float64\n",
      " 20  PAY_AMT5      26018 non-null  float64\n",
      " 21  PAY_AMT6      26018 non-null  float64\n",
      " 22  will_default  26018 non-null  int64  \n",
      " 23  Marriage_0.0  26018 non-null  float64\n",
      " 24  Marriage_1.0  26018 non-null  float64\n",
      " 25  Marriage_2.0  26018 non-null  float64\n",
      " 26  Marriage_3.0  26018 non-null  float64\n",
      "dtypes: float64(26), int64(1)\n",
      "memory usage: 5.4 MB\n"
     ]
    }
   ],
   "source": [
    "credit_final.info()"
   ]
  },
  {
   "cell_type": "markdown",
   "metadata": {},
   "source": [
    "# <font size=2, color='Green'> Scaling columns using MinMax scaler after splitting data into Train and Test.\n",
    "<font size=2, color='Green'> Used MinMax scaler because PAY_AMT, BILL_AMT, PAY, and LIMIT_BAL columns are way too big in comparision to columns like Marriage, SEX, EDUCATION.\n",
    "That's why I wanted all feature values in range of [0,1]."
   ]
  },
  {
   "cell_type": "code",
   "execution_count": 20,
   "metadata": {},
   "outputs": [],
   "source": [
    "X_train, X_test, y_train, y_test = train_test_split(credit_final.drop(\"will_default\",axis=1),credit_final[\"will_default\"],random_state=0)"
   ]
  },
  {
   "cell_type": "code",
   "execution_count": 23,
   "metadata": {},
   "outputs": [],
   "source": [
    "sc=MinMaxScaler()\n",
    "x_train_sc= pd.DataFrame(sc.fit_transform(X_train),columns=X_train.columns)\n",
    "x_test_sc= pd.DataFrame(sc.fit_transform(X_test),columns=X_test.columns)"
   ]
  },
  {
   "cell_type": "markdown",
   "metadata": {},
   "source": [
    "# <font size=4 color='Blue'> KNN Classification"
   ]
  },
  {
   "cell_type": "code",
   "execution_count": 26,
   "metadata": {},
   "outputs": [],
   "source": [
    "from sklearn.neighbors import KNeighborsClassifier\n",
    "\n",
    "train_score_Array = []\n",
    "test_score_Array = []\n",
    "\n",
    "for k in range (1,21):\n",
    "    knn=KNeighborsClassifier(k)\n",
    "    knn.fit(x_train_sc,y_train)\n",
    "    train_score_Array.append(knn.score(x_train_sc,y_train))\n",
    "    test_score_Array.append(knn.score(x_test_sc,y_test))"
   ]
  },
  {
   "cell_type": "code",
   "execution_count": 27,
   "metadata": {},
   "outputs": [
    {
     "name": "stdout",
     "output_type": "stream",
     "text": [
      "0.73 (+/-0.004) for {'n_neighbors': 1}\n",
      "0.788 (+/-0.006) for {'n_neighbors': 2}\n",
      "0.777 (+/-0.007) for {'n_neighbors': 3}\n",
      "0.796 (+/-0.005) for {'n_neighbors': 4}\n",
      "0.795 (+/-0.007) for {'n_neighbors': 5}\n",
      "0.804 (+/-0.007) for {'n_neighbors': 6}\n",
      "0.805 (+/-0.008) for {'n_neighbors': 7}\n",
      "0.806 (+/-0.007) for {'n_neighbors': 8}\n",
      "0.806 (+/-0.007) for {'n_neighbors': 9}\n",
      "0.807 (+/-0.008) for {'n_neighbors': 10}\n",
      "0.808 (+/-0.005) for {'n_neighbors': 11}\n",
      "0.809 (+/-0.006) for {'n_neighbors': 12}\n",
      "0.809 (+/-0.009) for {'n_neighbors': 13}\n",
      "0.809 (+/-0.007) for {'n_neighbors': 14}\n",
      "0.81 (+/-0.01) for {'n_neighbors': 15}\n",
      "0.81 (+/-0.008) for {'n_neighbors': 16}\n",
      "0.81 (+/-0.01) for {'n_neighbors': 17}\n",
      "0.81 (+/-0.01) for {'n_neighbors': 18}\n",
      "0.81 (+/-0.01) for {'n_neighbors': 19}\n",
      "0.81 (+/-0.01) for {'n_neighbors': 20}\n",
      "0.81 (+/-0.011) for {'n_neighbors': 21}\n",
      "0.809 (+/-0.009) for {'n_neighbors': 22}\n",
      "0.81 (+/-0.01) for {'n_neighbors': 23}\n",
      "0.809 (+/-0.007) for {'n_neighbors': 24}\n",
      "\n"
     ]
    }
   ],
   "source": [
    "param_grid_knn = {'n_neighbors': np.arange(1, 25)}\n",
    "grid_search_knn = GridSearchCV(knn,param_grid_knn, return_train_score=True)\n",
    "grid_search_knn.fit(x_train_sc, y_train)\n",
    "\n",
    "means = grid_search_knn.cv_results_['mean_test_score']\n",
    "stds = grid_search_knn.cv_results_['std_test_score']\n",
    "for mean, std, param in zip(means, stds, grid_search_knn.cv_results_['params']):\n",
    "    print(f\"{round(mean,3)} (+/-{round(std*2,3)}) for {param}\")\n",
    "print()"
   ]
  },
  {
   "cell_type": "code",
   "execution_count": 28,
   "metadata": {},
   "outputs": [
    {
     "name": "stdout",
     "output_type": "stream",
     "text": [
      "The training score after tuning is 0.824\n",
      "The scores are then computed on the full evaluation set.\n",
      "\n",
      "              precision    recall  f1-score   support\n",
      "\n",
      "           0       0.83      0.95      0.88      5059\n",
      "           1       0.62      0.30      0.41      1446\n",
      "\n",
      "    accuracy                           0.80      6505\n",
      "   macro avg       0.73      0.62      0.64      6505\n",
      "weighted avg       0.78      0.80      0.78      6505\n",
      "\n",
      "\n",
      "Accuracy obtained using KNN model with best tuned parameter from GridSearchCV: 0.804\n",
      "Precision obtained using KNN model with best tuned parameter from GridSearchCV: 0.625\n",
      "Recall using KNN model with best tuned parameter: 0.302\n",
      "f1 score using KNN model with best tuned parameter: 0.777\n"
     ]
    }
   ],
   "source": [
    "\n",
    "knn_train_pred = grid_search_knn.predict(x_train_sc)\n",
    "print(f'The training score after tuning is {(round(accuracy_score(y_train, knn_train_pred),3))}')\n",
    "\n",
    "print(\"The scores are then computed on the full evaluation set.\")\n",
    "print()\n",
    "\n",
    "y_true, knn_pred = y_test, grid_search_knn.predict(x_test_sc) \n",
    "print(classification_report(y_true, knn_pred))\n",
    "print()\n",
    "\n",
    "knn_accuracy = round(accuracy_score(y_test, knn_pred),3)\n",
    "print(f'Accuracy obtained using KNN model with best tuned parameter from GridSearchCV: {knn_accuracy}')\n",
    "\n",
    "knn_precision =  round(precision_score(y_test, knn_pred, labels=np.unique(knn_pred)),3)\n",
    "print(f'Precision obtained using KNN model with best tuned parameter from GridSearchCV: {knn_precision}')\n",
    "\n",
    "knn_recall =  round(recall_score(y_test, knn_pred),3)\n",
    "print(f'Recall using KNN model with best tuned parameter: {knn_recall}')\n",
    "\n",
    "knn_f1score =  round(f1_score(y_test, knn_pred,average='weighted', labels=np.unique(knn_pred)),3)\n",
    "print(f'f1 score using KNN model with best tuned parameter: {knn_f1score}')\n",
    "    "
   ]
  },
  {
   "cell_type": "code",
   "execution_count": 30,
   "metadata": {},
   "outputs": [
    {
     "data": {
      "text/plain": [
       "<matplotlib.legend.Legend at 0x1088b0d3850>"
      ]
     },
     "execution_count": 30,
     "metadata": {},
     "output_type": "execute_result"
    },
    {
     "data": {
      "image/png": "[encoded data removed]",
      "text/plain": [
       "<Figure size 1440x360 with 1 Axes>"
      ]
     },
     "metadata": {
      "needs_background": "light"
     },
     "output_type": "display_data"
    }
   ],
   "source": [
    "import matplotlib.pyplot as plt\n",
    "%matplotlib inline\n",
    "from pandas.plotting import scatter_matrix\n",
    "\n",
    "x_axis = range(1,21)\n",
    "%matplotlib inline\n",
    "\n",
    "plt.subplots(figsize = (20,5))\n",
    "plt.plot(x_axis, train_score_Array, label = 'Train Score', c = 'g')\n",
    "plt.plot(x_axis, test_score_Array, label = 'Test Score', c='b')\n",
    "plt.xlabel('n_neighbors')\n",
    "plt.ylabel('Accuracy')\n",
    "plt.xticks(x_axis)\n",
    "plt.grid()\n",
    "plt.legend()"
   ]
  },
  {
   "cell_type": "code",
   "execution_count": 31,
   "metadata": {},
   "outputs": [],
   "source": [
    "knn_model = grid_search_knn.best_estimator_\n",
    "model_filename = 'KNN.pickle'\n",
    "pickle.dump(knn_model, open(model_filename,'wb'))"
   ]
  },
  {
   "cell_type": "markdown",
   "metadata": {},
   "source": [
    "# <font size=4 color='Blue'> Logistic Regression"
   ]
  },
  {
   "cell_type": "code",
   "execution_count": 32,
   "metadata": {},
   "outputs": [],
   "source": [
    "from sklearn.linear_model import LogisticRegression\n",
    "\n",
    "c_range = [0.001, 0.01, 0.1, 1, 10, 100]\n",
    "train_score_l1 = []\n",
    "train_score_l2 = []\n",
    "test_score_l1 = []\n",
    "test_score_l2 = []\n",
    "\n",
    "for c in c_range:\n",
    "    log_l1 = LogisticRegression(penalty = 'l1', C = c, solver = 'liblinear', max_iter = 500)\n",
    "    log_l2 = LogisticRegression(penalty = 'l2', C = c, solver = 'lbfgs', max_iter = 500)\n",
    "    log_l1.fit(x_train_sc, y_train)\n",
    "    log_l2.fit(x_train_sc, y_train)\n",
    "    train_score_l1.append(log_l1.score(x_train_sc, y_train))\n",
    "    train_score_l2.append(log_l2.score(x_train_sc, y_train))\n",
    "    test_score_l1.append(log_l1.score(x_test_sc, y_test))\n",
    "    test_score_l2.append(log_l2.score(x_test_sc, y_test))"
   ]
  },
  {
   "cell_type": "code",
   "execution_count": 33,
   "metadata": {},
   "outputs": [
    {
     "data": {
      "image/png": "[encoded data removed]",
      "text/plain": [
       "<Figure size 1440x360 with 1 Axes>"
      ]
     },
     "metadata": {
      "needs_background": "light"
     },
     "output_type": "display_data"
    }
   ],
   "source": [
    "import matplotlib.pyplot as plt\n",
    "%matplotlib inline\n",
    "\n",
    "plt.subplots(figsize = (20,5))\n",
    "plt.plot(c_range, train_score_l1, label = 'Train score, penalty = l1')\n",
    "plt.plot(c_range, test_score_l1, label = 'Test score, penalty = l1')\n",
    "plt.plot(c_range, train_score_l2, label = 'Train score, penalty = l2')\n",
    "plt.plot(c_range, test_score_l2, label = 'Test score, penalty = l2')\n",
    "plt.legend()\n",
    "plt.xlabel('Regularization parameter: C')\n",
    "plt.ylabel('Accuracy')\n",
    "plt.xscale('log')"
   ]
  },
  {
   "cell_type": "code",
   "execution_count": 34,
   "metadata": {},
   "outputs": [
    {
     "data": {
      "text/plain": [
       "GridSearchCV(cv=6, estimator=LogisticRegression(),\n",
       "             param_grid={'C': [0.001, 0.01, 0.1, 1, 10, 100],\n",
       "                         'penalty': ['l1', 'l2']},\n",
       "             return_train_score=True)"
      ]
     },
     "execution_count": 34,
     "metadata": {},
     "output_type": "execute_result"
    }
   ],
   "source": [
    "from sklearn.model_selection import GridSearchCV\n",
    "model = LogisticRegression()\n",
    "penalty = ['l1', 'l2']\n",
    "C = [0.001,0.01,0.1,1,10,100]\n",
    "parameters = dict(C=C, penalty=penalty)\n",
    "\n",
    "grid_search_logistic = GridSearchCV(model,parameters, cv=6, return_train_score=True)\n",
    "grid_search_logistic.fit(x_train_sc, y_train)"
   ]
  },
  {
   "cell_type": "code",
   "execution_count": 35,
   "metadata": {},
   "outputs": [
    {
     "name": "stdout",
     "output_type": "stream",
     "text": [
      "{'C': 100, 'penalty': 'l2'}\n",
      "LogisticRegression(C=100)\n"
     ]
    }
   ],
   "source": [
    "# print best parameter after tuning \n",
    "print(grid_search_logistic.best_params_) \n",
    "  \n",
    "# print how our model looks after hyper-parameter tuning \n",
    "print(grid_search_logistic.best_estimator_) "
   ]
  },
  {
   "cell_type": "code",
   "execution_count": 36,
   "metadata": {},
   "outputs": [
    {
     "data": {
      "text/plain": [
       "array([[4655,  404],\n",
       "       [ 885,  561]], dtype=int64)"
      ]
     },
     "execution_count": 36,
     "metadata": {},
     "output_type": "execute_result"
    }
   ],
   "source": [
    "from sklearn import metrics\n",
    "logistic=LogisticRegression(penalty = 'l2', C = 100, solver = 'lbfgs', max_iter = 500)\n",
    "logistic.fit(x_train_sc,y_train)\n",
    "y_pred=logistic.predict(x_test_sc)\n",
    "cnf_matrix = metrics.confusion_matrix(y_test, y_pred)\n",
    "cnf_matrix"
   ]
  },
  {
   "cell_type": "code",
   "execution_count": 37,
   "metadata": {},
   "outputs": [],
   "source": [
    "# import required modules\n",
    "import numpy as np\n",
    "import matplotlib.pyplot as plt\n",
    "import seaborn as sns\n",
    "%matplotlib inline"
   ]
  },
  {
   "cell_type": "code",
   "execution_count": 38,
   "metadata": {},
   "outputs": [
    {
     "data": {
      "text/plain": [
       "Text(0.5, 257.44, 'Predicted label')"
      ]
     },
     "execution_count": 38,
     "metadata": {},
     "output_type": "execute_result"
    },
    {
     "data": {
      "image/png": "[encoded data removed]",
      "text/plain": [
       "<Figure size 432x288 with 2 Axes>"
      ]
     },
     "metadata": {
      "needs_background": "light"
     },
     "output_type": "display_data"
    }
   ],
   "source": [
    "class_names=[0,1] # name  of classes\n",
    "fig, ax = plt.subplots()\n",
    "tick_marks = np.arange(len(class_names))\n",
    "plt.xticks(tick_marks, class_names)\n",
    "plt.yticks(tick_marks, class_names)\n",
    "sns.heatmap(pd.DataFrame(cnf_matrix), annot=True, cmap=\"YlGnBu\" ,fmt='g')\n",
    "ax.xaxis.set_label_position(\"top\")\n",
    "plt.tight_layout()\n",
    "plt.title('Confusion matrix', y=1.1)\n",
    "plt.ylabel('Actual label')\n",
    "plt.xlabel('Predicted label')"
   ]
  },
  {
   "cell_type": "code",
   "execution_count": 39,
   "metadata": {},
   "outputs": [
    {
     "name": "stdout",
     "output_type": "stream",
     "text": [
      "              precision    recall  f1-score   support\n",
      "\n",
      "           0       0.84      0.94      0.88      5059\n",
      "           1       0.62      0.35      0.45      1446\n",
      "\n",
      "    accuracy                           0.81      6505\n",
      "   macro avg       0.73      0.64      0.67      6505\n",
      "weighted avg       0.79      0.81      0.79      6505\n",
      "\n",
      "Accuracy: 0.8073789392774788\n",
      "Precision: 0.616969696969697\n",
      "Recall: 0.35200553250345784\n",
      "\n",
      "Accuracy obtained using logistic model with best tuned parameter from GridSearchCV: 0.807\n",
      "Precision obtained using logistic model with best tuned parameter from GridSearchCV: 0.617\n",
      "Recall using logistic model with best tuned parameter: 0.352\n",
      "f1 score using logistic model with best tuned parameter: 0.787\n"
     ]
    }
   ],
   "source": [
    "y_true, logistic_pred = y_test, grid_search_logistic.predict(x_test_sc) \n",
    "print(classification_report(y_true, logistic_pred))\n",
    "\n",
    "print(\"Accuracy:\",metrics.accuracy_score(y_test, logistic_pred))\n",
    "print(\"Precision:\",metrics.precision_score(y_test, logistic_pred))\n",
    "print(\"Recall:\",metrics.recall_score(y_test, logistic_pred))\n",
    "print()\n",
    "\n",
    "logistic_accuracy = round(accuracy_score(y_test, logistic_pred),3)\n",
    "print(f'Accuracy obtained using logistic model with best tuned parameter from GridSearchCV: {logistic_accuracy}')\n",
    "\n",
    "logistic_precision =  round(precision_score(y_test, logistic_pred, labels=np.unique(logistic_pred)),3)\n",
    "print(f'Precision obtained using logistic model with best tuned parameter from GridSearchCV: {logistic_precision}')\n",
    "\n",
    "logistic_recall =  round(recall_score(y_test, logistic_pred),3)\n",
    "print(f'Recall using logistic model with best tuned parameter: {logistic_recall}')\n",
    "\n",
    "logistic_f1score =  round(f1_score(y_test, logistic_pred,average='weighted', labels=np.unique(logistic_pred)),3)\n",
    "print(f'f1 score using logistic model with best tuned parameter: {logistic_f1score}')"
   ]
  },
  {
   "cell_type": "code",
   "execution_count": 40,
   "metadata": {},
   "outputs": [],
   "source": [
    "logistic_model = grid_search_logistic.best_estimator_\n",
    "model_filename = 'logistic.pickle'\n",
    "pickle.dump(logistic_model, open(model_filename,'wb'))"
   ]
  },
  {
   "cell_type": "markdown",
   "metadata": {},
   "source": [
    "# <font size=4 color='Blue'> Linear SVC"
   ]
  },
  {
   "cell_type": "code",
   "execution_count": 41,
   "metadata": {},
   "outputs": [],
   "source": [
    "from sklearn.svm import LinearSVC\n",
    "train_score_svm=[]\n",
    "test_score_svm=[]\n",
    "clf = LinearSVC(max_iter=10000, penalty='l2',dual=False,random_state=0)\n",
    "clf.fit(X_train,y_train)\n",
    "train_score_svm.append(clf.score(x_train_sc,y_train))\n",
    "test_score_svm.append(clf.score(x_test_sc,y_test))"
   ]
  },
  {
   "cell_type": "code",
   "execution_count": 42,
   "metadata": {},
   "outputs": [
    {
     "name": "stdout",
     "output_type": "stream",
     "text": [
      "[0.7824014759391175]\n",
      "[0.7818601076095312]\n"
     ]
    }
   ],
   "source": [
    "print(train_score_svm)\n",
    "print(test_score_svm)"
   ]
  },
  {
   "cell_type": "code",
   "execution_count": 43,
   "metadata": {},
   "outputs": [
    {
     "data": {
      "text/plain": [
       "GridSearchCV(cv=6,\n",
       "             estimator=LinearSVC(dual=False, max_iter=10000, random_state=0),\n",
       "             param_grid={'C': [0.001, 0.01, 0.1, 1, 10, 100]},\n",
       "             return_train_score=True)"
      ]
     },
     "execution_count": 43,
     "metadata": {},
     "output_type": "execute_result"
    }
   ],
   "source": [
    "\n",
    "param_grid = {'C': [0.001, 0.01, 0.1, 1, 10, 100]}  \n",
    "grid_search_svc = GridSearchCV(clf,param_grid,cv=6, return_train_score=True)\n",
    "grid_search_svc.fit(x_train_sc, y_train)"
   ]
  },
  {
   "cell_type": "code",
   "execution_count": 44,
   "metadata": {},
   "outputs": [
    {
     "name": "stdout",
     "output_type": "stream",
     "text": [
      "{'C': 100}\n",
      "LinearSVC(C=100, dual=False, max_iter=10000, random_state=0)\n"
     ]
    }
   ],
   "source": [
    "# print best parameter after tuning \n",
    "print(grid_search_svc.best_params_) \n",
    "  \n",
    "# print how our model looks after hyper-parameter tuning \n",
    "print(grid_search_svc.best_estimator_) "
   ]
  },
  {
   "cell_type": "code",
   "execution_count": 77,
   "metadata": {},
   "outputs": [
    {
     "name": "stdout",
     "output_type": "stream",
     "text": [
      "              precision    recall  f1-score   support\n",
      "\n",
      "           0       0.83      0.94      0.88      5059\n",
      "           1       0.62      0.33      0.43      1446\n",
      "\n",
      "    accuracy                           0.81      6505\n",
      "   macro avg       0.73      0.64      0.66      6505\n",
      "weighted avg       0.78      0.81      0.78      6505\n",
      "\n",
      "\n",
      "Accuracy: 0.8066102997694081\n",
      "Precision: 0.6230366492146597\n",
      "Recall: 0.32918395573997233\n",
      "Accuracy obtained using svc model with best tuned parameter from GridSearchCV: 0.807\n",
      "Precision obtained using svc model with best tuned parameter from GridSearchCV: 0.623\n",
      "Recall using svc model with best tuned parameter: 0.329\n",
      "f1 score using svc model with best tuned parameter: 0.783\n"
     ]
    }
   ],
   "source": [
    "y_true, svc_pred = y_test, grid_search_svc.predict(x_test_sc) \n",
    "print(classification_report(y_true, svc_pred))\n",
    "print()\n",
    "\n",
    "print(\"Accuracy:\",metrics.accuracy_score(y_true, svc_pred))\n",
    "print(\"Precision:\",metrics.precision_score(y_true, svc_pred))\n",
    "print(\"Recall:\",metrics.recall_score(y_true, svc_pred))\n",
    "\n",
    "svc_accuracy = round(accuracy_score(y_test, svc_pred),3)\n",
    "print(f'Accuracy obtained using svc model with best tuned parameter from GridSearchCV: {svc_accuracy}')\n",
    "\n",
    "svc_precision =  round(precision_score(y_test, svc_pred, labels=np.unique(svc_pred)),3)\n",
    "print(f'Precision obtained using svc model with best tuned parameter from GridSearchCV: {svc_precision}')\n",
    "\n",
    "svc_recall =  round(recall_score(y_test, svc_pred),3)\n",
    "print(f'Recall using svc model with best tuned parameter: {svc_recall}')\n",
    "\n",
    "svc_f1score =  round(f1_score(y_test, svc_pred,average='weighted', labels=np.unique(svc_pred)),3)\n",
    "print(f'f1 score using svc model with best tuned parameter: {svc_f1score}')\n",
    "    "
   ]
  },
  {
   "cell_type": "code",
   "execution_count": 46,
   "metadata": {},
   "outputs": [],
   "source": [
    "svc_model = grid_search_svc.best_estimator_\n",
    "model_filename = 'svc.pickle'\n",
    "pickle.dump(svc_model, open(model_filename,'wb'))"
   ]
  },
  {
   "cell_type": "markdown",
   "metadata": {},
   "source": [
    "# <font size=4 color='Blue'> Kerenilzed Support Vector Machine"
   ]
  },
  {
   "cell_type": "markdown",
   "metadata": {},
   "source": [
    "# <font size=4 color='Blue'> poly"
   ]
  },
  {
   "cell_type": "code",
   "execution_count": 47,
   "metadata": {},
   "outputs": [
    {
     "data": {
      "text/plain": [
       "SVC(kernel='poly')"
      ]
     },
     "execution_count": 47,
     "metadata": {},
     "output_type": "execute_result"
    }
   ],
   "source": [
    "from sklearn.datasets import make_moons\n",
    "from sklearn.svm import SVC\n",
    "from mlxtend.plotting import plot_decision_regions\n",
    "import matplotlib.gridspec as gridspec\n",
    "import itertools\n",
    "\n",
    "clf_poly = SVC(kernel = 'poly')\n",
    "clf_poly.fit(x_train_sc,y_train)"
   ]
  },
  {
   "cell_type": "code",
   "execution_count": 48,
   "metadata": {},
   "outputs": [
    {
     "data": {
      "text/plain": [
       "GridSearchCV(cv=6, estimator=SVC(kernel='poly'),\n",
       "             param_grid={'C': [0.01, 0.1, 1, 10],\n",
       "                         'gamma': [1, 0.1, 0.01, 0.001], 'kernel': ['poly']},\n",
       "             return_train_score=True)"
      ]
     },
     "execution_count": 48,
     "metadata": {},
     "output_type": "execute_result"
    }
   ],
   "source": [
    "param_grid = {'C': [0.01, 0.1, 1, 10],  \n",
    "              'gamma': [1, 0.1, 0.01, 0.001],\n",
    "              'kernel': ['poly']}  \n",
    "grid_search_poly = GridSearchCV(clf_poly,param_grid,cv=6, return_train_score=True)\n",
    "grid_search_poly.fit(x_train_sc, y_train)"
   ]
  },
  {
   "cell_type": "code",
   "execution_count": 49,
   "metadata": {},
   "outputs": [
    {
     "name": "stdout",
     "output_type": "stream",
     "text": [
      "{'C': 10, 'gamma': 1, 'kernel': 'poly'}\n",
      "SVC(C=10, gamma=1, kernel='poly')\n"
     ]
    }
   ],
   "source": [
    "# print best parameter after tuning \n",
    "print(grid_search_poly.best_params_) \n",
    "  \n",
    "# print how our model looks after hyper-parameter tuning \n",
    "print(grid_search_poly.best_estimator_) "
   ]
  },
  {
   "cell_type": "code",
   "execution_count": 76,
   "metadata": {},
   "outputs": [
    {
     "name": "stdout",
     "output_type": "stream",
     "text": [
      "              precision    recall  f1-score   support\n",
      "\n",
      "           0       0.84      0.92      0.88      5059\n",
      "           1       0.60      0.40      0.48      1446\n",
      "\n",
      "    accuracy                           0.81      6505\n",
      "   macro avg       0.72      0.66      0.68      6505\n",
      "weighted avg       0.79      0.81      0.79      6505\n",
      "\n",
      "\n",
      "Accuracy: 0.808608762490392\n",
      "Precision: 0.6041450777202072\n",
      "Recall: 0.40318118948824344\n",
      "Accuracy obtained using poly model with best tuned parameter from GridSearchCV: 0.809\n",
      "Precision obtained using poly model with best tuned parameter from GridSearchCV: 0.604\n",
      "Recall using poly model with best tuned parameter: 0.403\n",
      "f1 score using poly model with best tuned parameter: 0.794\n"
     ]
    }
   ],
   "source": [
    "y_true, poly_pred = y_test, grid_search_poly.predict(x_test_sc) \n",
    "print(classification_report(y_true, poly_pred))\n",
    "print()\n",
    "\n",
    "\n",
    "print(\"Accuracy:\",metrics.accuracy_score(y_true, poly_pred))\n",
    "print(\"Precision:\",metrics.precision_score(y_true, poly_pred))\n",
    "print(\"Recall:\",metrics.recall_score(y_true, poly_pred))\n",
    "\n",
    "\n",
    "poly_accuracy = round(accuracy_score(y_test, poly_pred),3)\n",
    "print(f'Accuracy obtained using poly model with best tuned parameter from GridSearchCV: {poly_accuracy}')\n",
    "\n",
    "poly_precision =  round(precision_score(y_test, poly_pred, labels=np.unique(poly_pred)),3)\n",
    "print(f'Precision obtained using poly model with best tuned parameter from GridSearchCV: {poly_precision}')\n",
    "\n",
    "poly_recall =  round(recall_score(y_test, poly_pred),3)\n",
    "print(f'Recall using poly model with best tuned parameter: {poly_recall}')\n",
    "\n",
    "poly_f1score =  round(f1_score(y_test, poly_pred,average='weighted', labels=np.unique(poly_pred)),3)\n",
    "print(f'f1 score using poly model with best tuned parameter: {poly_f1score}')"
   ]
  },
  {
   "cell_type": "code",
   "execution_count": 51,
   "metadata": {},
   "outputs": [],
   "source": [
    "poly_model = grid_search_poly.best_estimator_\n",
    "model_filename = 'poly.pickle'\n",
    "pickle.dump(poly_model, open(model_filename,'wb'))"
   ]
  },
  {
   "cell_type": "markdown",
   "metadata": {},
   "source": [
    "# <font size=4 color='Blue'> rbf"
   ]
  },
  {
   "cell_type": "code",
   "execution_count": 52,
   "metadata": {},
   "outputs": [
    {
     "data": {
      "text/plain": [
       "SVC()"
      ]
     },
     "execution_count": 52,
     "metadata": {},
     "output_type": "execute_result"
    }
   ],
   "source": [
    "from sklearn.datasets import make_moons\n",
    "from sklearn.svm import SVC\n",
    "from mlxtend.plotting import plot_decision_regions\n",
    "import matplotlib.gridspec as gridspec\n",
    "import itertools\n",
    "\n",
    "clf_rbf = SVC(kernel = 'rbf')\n",
    "clf_rbf.fit(x_train_sc,y_train)\n"
   ]
  },
  {
   "cell_type": "code",
   "execution_count": 53,
   "metadata": {},
   "outputs": [
    {
     "data": {
      "text/plain": [
       "GridSearchCV(cv=6, estimator=SVC(),\n",
       "             param_grid={'C': [0.01, 0.1, 1, 10],\n",
       "                         'gamma': [1, 0.1, 0.01, 0.001], 'kernel': ['rbf']},\n",
       "             return_train_score=True)"
      ]
     },
     "execution_count": 53,
     "metadata": {},
     "output_type": "execute_result"
    }
   ],
   "source": [
    "param_grid = {'C': [0.01, 0.1, 1, 10],  \n",
    "              'gamma': [1, 0.1, 0.01, 0.001],\n",
    "              'kernel': ['rbf']}  \n",
    "grid_search_rbf = GridSearchCV(clf_rbf,param_grid, cv=6, return_train_score=True)\n",
    "grid_search_rbf.fit(x_train_sc, y_train)"
   ]
  },
  {
   "cell_type": "code",
   "execution_count": 54,
   "metadata": {},
   "outputs": [
    {
     "name": "stdout",
     "output_type": "stream",
     "text": [
      "{'C': 10, 'gamma': 1, 'kernel': 'rbf'}\n",
      "SVC(C=10, gamma=1)\n"
     ]
    }
   ],
   "source": [
    "# print best parameter after tuning \n",
    "print(grid_search_rbf.best_params_) \n",
    "  \n",
    "# print how our model looks after hyper-parameter tuning \n",
    "print(grid_search_rbf.best_estimator_) "
   ]
  },
  {
   "cell_type": "code",
   "execution_count": 78,
   "metadata": {},
   "outputs": [
    {
     "name": "stdout",
     "output_type": "stream",
     "text": [
      "              precision    recall  f1-score   support\n",
      "\n",
      "           0       0.83      0.95      0.89      5059\n",
      "           1       0.65      0.34      0.45      1446\n",
      "\n",
      "    accuracy                           0.81      6505\n",
      "   macro avg       0.74      0.64      0.67      6505\n",
      "weighted avg       0.79      0.81      0.79      6505\n",
      "\n",
      "\n",
      "Accuracy: 0.8130668716372021\n",
      "Precision: 0.6533333333333333\n",
      "Recall: 0.338865836791148\n",
      "Accuracy obtained using rbf model with best tuned parameter from GridSearchCV: 0.813\n",
      "Precision obtained using rbf model with best tuned parameter from GridSearchCV: 0.653\n",
      "Recall using rbf model with best tuned parameter: 0.339\n",
      "f1 score using rbf model with best tuned parameter: 0.789\n"
     ]
    }
   ],
   "source": [
    "y_true, rbf_pred = y_test, grid_search_rbf.predict(x_test_sc) \n",
    "print(classification_report(y_true, rbf_pred))\n",
    "print()\n",
    "\n",
    "\n",
    "print(\"Accuracy:\",metrics.accuracy_score(y_true, rbf_pred))\n",
    "print(\"Precision:\",metrics.precision_score(y_true, rbf_pred))\n",
    "print(\"Recall:\",metrics.recall_score(y_true, rbf_pred))\n",
    "\n",
    "\n",
    "rbf_accuracy = round(accuracy_score(y_test, rbf_pred),3)\n",
    "print(f'Accuracy obtained using rbf model with best tuned parameter from GridSearchCV: {rbf_accuracy}')\n",
    "\n",
    "rbf_precision =  round(precision_score(y_test, rbf_pred, labels=np.unique(rbf_pred)),3)\n",
    "print(f'Precision obtained using rbf model with best tuned parameter from GridSearchCV: {rbf_precision}')\n",
    "\n",
    "rbf_recall =  round(recall_score(y_test, rbf_pred),3)\n",
    "print(f'Recall using rbf model with best tuned parameter: {rbf_recall}')\n",
    "\n",
    "rbf_f1score =  round(f1_score(y_test, rbf_pred,average='weighted', labels=np.unique(rbf_pred)),3)\n",
    "print(f'f1 score using rbf model with best tuned parameter: {rbf_f1score}')\n",
    "    "
   ]
  },
  {
   "cell_type": "code",
   "execution_count": 56,
   "metadata": {},
   "outputs": [],
   "source": [
    "rbf_model = grid_search_rbf.best_estimator_\n",
    "model_filename = 'rbf.pickle'\n",
    "pickle.dump(svc_model, open(model_filename,'wb'))"
   ]
  },
  {
   "cell_type": "markdown",
   "metadata": {},
   "source": [
    "# <font size=4 color='Blue'> Linear"
   ]
  },
  {
   "cell_type": "code",
   "execution_count": 57,
   "metadata": {},
   "outputs": [
    {
     "data": {
      "text/plain": [
       "SVC(kernel='linear')"
      ]
     },
     "execution_count": 57,
     "metadata": {},
     "output_type": "execute_result"
    }
   ],
   "source": [
    "from sklearn.datasets import make_moons\n",
    "from sklearn.svm import SVC\n",
    "from mlxtend.plotting import plot_decision_regions\n",
    "import matplotlib.gridspec as gridspec\n",
    "import itertools\n",
    "\n",
    "clf_linear = SVC(kernel = 'linear')\n",
    "clf_linear.fit(x_train_sc,y_train)"
   ]
  },
  {
   "cell_type": "code",
   "execution_count": 58,
   "metadata": {},
   "outputs": [
    {
     "data": {
      "text/plain": [
       "GridSearchCV(cv=6, estimator=SVC(kernel='linear'),\n",
       "             param_grid={'C': [0.01, 0.1, 1, 10],\n",
       "                         'gamma': [1, 0.1, 0.01, 0.001], 'kernel': ['linear']},\n",
       "             return_train_score=True)"
      ]
     },
     "execution_count": 58,
     "metadata": {},
     "output_type": "execute_result"
    }
   ],
   "source": [
    "param_grid = {'C': [0.01, 0.1, 1, 10],  \n",
    "              'gamma': [1, 0.1, 0.01, 0.001],\n",
    "              'kernel': ['linear']}  \n",
    "grid_search_linear = GridSearchCV(clf_linear,param_grid, cv=6, return_train_score=True)\n",
    "grid_search_linear.fit(x_train_sc, y_train)"
   ]
  },
  {
   "cell_type": "code",
   "execution_count": 59,
   "metadata": {},
   "outputs": [
    {
     "name": "stdout",
     "output_type": "stream",
     "text": [
      "{'C': 10, 'gamma': 1, 'kernel': 'linear'}\n",
      "SVC(C=10, gamma=1, kernel='linear')\n",
      "0.805\n"
     ]
    }
   ],
   "source": [
    "# print best parameter after tuning \n",
    "print(grid_search_linear.best_params_) \n",
    "  \n",
    "# print how our model looks after hyper-parameter tuning \n",
    "print(grid_search_linear.best_estimator_) \n",
    "\n",
    "y_true, linearsvc_pred = y_test, clf_linear.predict(x_test_sc)\n",
    "print(round(accuracy_score(y_test, linearsvc_pred),3))"
   ]
  },
  {
   "cell_type": "code",
   "execution_count": 79,
   "metadata": {},
   "outputs": [
    {
     "name": "stdout",
     "output_type": "stream",
     "text": [
      "              precision    recall  f1-score   support\n",
      "\n",
      "           0       0.82      0.97      0.89      5059\n",
      "           1       0.69      0.24      0.35      1446\n",
      "\n",
      "    accuracy                           0.81      6505\n",
      "   macro avg       0.75      0.60      0.62      6505\n",
      "weighted avg       0.79      0.81      0.77      6505\n",
      "\n",
      "\n",
      "Accuracy: 0.8066102997694081\n",
      "Precision: 0.6910569105691057\n",
      "Recall: 0.2351313969571231\n",
      "Accuracy obtained using linear model with best tuned parameter from GridSearchCV: 0.807\n",
      "Precision obtained using linear model with best tuned parameter from GridSearchCV: 0.691\n",
      "Recall using linear model with best tuned parameter: 0.235\n",
      "f1 score using linear model with best tuned parameter: 0.767\n"
     ]
    }
   ],
   "source": [
    "y_true, linear_pred = y_test, grid_search_linear.predict(x_test_sc) \n",
    "print(classification_report(y_true, linear_pred))\n",
    "print()\n",
    "\n",
    "print(\"Accuracy:\",metrics.accuracy_score(y_true, linear_pred))\n",
    "print(\"Precision:\",metrics.precision_score(y_true, linear_pred))\n",
    "print(\"Recall:\",metrics.recall_score(y_true, linear_pred))\n",
    "\n",
    "linear_accuracy = round(accuracy_score(y_test, linear_pred),3)\n",
    "print(f'Accuracy obtained using linear model with best tuned parameter from GridSearchCV: {linear_accuracy}')\n",
    "\n",
    "linear_precision =  round(precision_score(y_test, linear_pred, labels=np.unique(linear_pred)),3)\n",
    "print(f'Precision obtained using linear model with best tuned parameter from GridSearchCV: {linear_precision}')\n",
    "\n",
    "linear_recall =  round(recall_score(y_test, linear_pred),3)\n",
    "print(f'Recall using linear model with best tuned parameter: {linear_recall}')\n",
    "\n",
    "linear_f1score =  round(f1_score(y_test, linear_pred,average='weighted', labels=np.unique(linear_pred)),3)\n",
    "print(f'f1 score using linear model with best tuned parameter: {linear_f1score}')"
   ]
  },
  {
   "cell_type": "code",
   "execution_count": 61,
   "metadata": {},
   "outputs": [],
   "source": [
    "linear_model = grid_search_linear.best_estimator_\n",
    "model_filename = 'linear.pickle'\n",
    "pickle.dump(linear_model, open(model_filename,'wb'))"
   ]
  },
  {
   "cell_type": "markdown",
   "metadata": {},
   "source": [
    "# <font size=4 color='Blue'> Decision Tree Classifier"
   ]
  },
  {
   "cell_type": "code",
   "execution_count": 62,
   "metadata": {},
   "outputs": [
    {
     "data": {
      "text/plain": [
       "DecisionTreeClassifier(criterion='entropy')"
      ]
     },
     "execution_count": 62,
     "metadata": {},
     "output_type": "execute_result"
    }
   ],
   "source": [
    "from sklearn.tree import DecisionTreeClassifier\n",
    "\n",
    "tree = DecisionTreeClassifier(criterion= 'entropy')\n",
    "tree.fit(x_train_sc,y_train)"
   ]
  },
  {
   "cell_type": "code",
   "execution_count": 63,
   "metadata": {},
   "outputs": [
    {
     "name": "stdout",
     "output_type": "stream",
     "text": [
      "Accuracy on training set: 0.824\n",
      "Accuracy on test set: 0.812\n"
     ]
    }
   ],
   "source": [
    "dtree = DecisionTreeClassifier(max_depth=4, random_state=0)\n",
    "dtree.fit(x_train_sc, y_train)\n",
    "\n",
    "print(\"Accuracy on training set: {:.3f}\".format(dtree.score(x_train_sc, y_train)))\n",
    "print(\"Accuracy on test set: {:.3f}\".format(dtree.score(x_test_sc, y_test)))"
   ]
  },
  {
   "cell_type": "code",
   "execution_count": 64,
   "metadata": {},
   "outputs": [
    {
     "data": {
      "text/plain": [
       "GridSearchCV(cv=6, estimator=DecisionTreeClassifier(criterion='entropy'),\n",
       "             param_grid={'criterion': ['gini', 'entropy'],\n",
       "                         'max_depth': range(5, 30),\n",
       "                         'max_features': ['auto', 'sqrt', 'log2'],\n",
       "                         'min_samples_split': range(10, 300, 10),\n",
       "                         'random_state': [0]},\n",
       "             return_train_score=True)"
      ]
     },
     "execution_count": 64,
     "metadata": {},
     "output_type": "execute_result"
    }
   ],
   "source": [
    "param_grid = {'criterion': ['gini','entropy'], 'min_samples_split' : range(10,300,10), 'max_depth': range(5,30), 'max_features': ['auto', 'sqrt', 'log2'],'random_state':[0]}\n",
    "grid_search_tree = GridSearchCV(tree,param_grid, cv=6, return_train_score=True)\n",
    "grid_search_tree.fit(x_train_sc, y_train)"
   ]
  },
  {
   "cell_type": "code",
   "execution_count": 65,
   "metadata": {},
   "outputs": [
    {
     "name": "stdout",
     "output_type": "stream",
     "text": [
      "{'criterion': 'entropy', 'max_depth': 15, 'max_features': 'auto', 'min_samples_split': 290, 'random_state': 0}\n",
      "DecisionTreeClassifier(criterion='entropy', max_depth=15, max_features='auto',\n",
      "                       min_samples_split=290, random_state=0)\n"
     ]
    }
   ],
   "source": [
    "# print best parameter after tuning \n",
    "print(grid_search_tree.best_params_) \n",
    "  \n",
    "# print how our model looks after hyper-parameter tuning \n",
    "print(grid_search_tree.best_estimator_) "
   ]
  },
  {
   "cell_type": "code",
   "execution_count": 80,
   "metadata": {},
   "outputs": [
    {
     "name": "stdout",
     "output_type": "stream",
     "text": [
      "              precision    recall  f1-score   support\n",
      "\n",
      "           0       0.82      0.93      0.87      5059\n",
      "           1       0.55      0.28      0.37      1446\n",
      "\n",
      "    accuracy                           0.79      6505\n",
      "   macro avg       0.69      0.61      0.62      6505\n",
      "weighted avg       0.76      0.79      0.76      6505\n",
      "\n",
      "\n",
      "Accuracy: 0.78923904688701\n",
      "Precision: 0.5510204081632653\n",
      "Recall: 0.2800829875518672\n",
      "Accuracy obtained using tree model with best tuned parameter from GridSearchCV: 0.789\n",
      "Precision obtained using tree model with best tuned parameter from GridSearchCV: 0.551\n",
      "Recall using tree model with best tuned parameter: 0.28\n",
      "f1 score using tree model with best tuned parameter: 0.762\n"
     ]
    }
   ],
   "source": [
    "y_true, tree_pred = y_test, grid_search_tree.predict(x_test_sc) \n",
    "print(classification_report(y_true, tree_pred))\n",
    "print()\n",
    "\n",
    "print(\"Accuracy:\",metrics.accuracy_score(y_true, tree_pred))\n",
    "print(\"Precision:\",metrics.precision_score(y_true, tree_pred))\n",
    "print(\"Recall:\",metrics.recall_score(y_true, tree_pred))\n",
    "\n",
    "tree_accuracy = round(accuracy_score(y_test, tree_pred),3)\n",
    "print(f'Accuracy obtained using tree model with best tuned parameter from GridSearchCV: {tree_accuracy}')\n",
    "\n",
    "tree_precision =  round(precision_score(y_test, tree_pred, labels=np.unique(tree_pred)),3)\n",
    "print(f'Precision obtained using tree model with best tuned parameter from GridSearchCV: {tree_precision}')\n",
    "\n",
    "tree_recall =  round(recall_score(y_test, tree_pred),3)\n",
    "print(f'Recall using tree model with best tuned parameter: {tree_recall}')\n",
    "\n",
    "tree_f1score =  round(f1_score(y_test, tree_pred,average='weighted', labels=np.unique(tree_pred)),3)\n",
    "print(f'f1 score using tree model with best tuned parameter: {tree_f1score}')"
   ]
  },
  {
   "cell_type": "code",
   "execution_count": 68,
   "metadata": {},
   "outputs": [],
   "source": [
    "tree_model = grid_search_tree.best_estimator_\n",
    "model_filename = 'tree.pickle'\n",
    "pickle.dump(tree_model, open(model_filename,'wb'))"
   ]
  },
  {
   "cell_type": "code",
   "execution_count": 81,
   "metadata": {},
   "outputs": [
    {
     "data": {
      "text/html": [
       "<div>\n",
       "<style scoped>\n",
       "    .dataframe tbody tr th:only-of-type {\n",
       "        vertical-align: middle;\n",
       "    }\n",
       "\n",
       "    .dataframe tbody tr th {\n",
       "        vertical-align: top;\n",
       "    }\n",
       "\n",
       "    .dataframe thead th {\n",
       "        text-align: right;\n",
       "    }\n",
       "</style>\n",
       "<table border=\"1\" class=\"dataframe\">\n",
       "  <thead>\n",
       "    <tr style=\"text-align: right;\">\n",
       "      <th></th>\n",
       "      <th>Models</th>\n",
       "      <th>Test Accuracy</th>\n",
       "      <th>Precision</th>\n",
       "      <th>Recall</th>\n",
       "      <th>f1 Score</th>\n",
       "    </tr>\n",
       "  </thead>\n",
       "  <tbody>\n",
       "    <tr>\n",
       "      <th>3</th>\n",
       "      <td>Kernelized POLY</td>\n",
       "      <td>0.809</td>\n",
       "      <td>0.604</td>\n",
       "      <td>0.403</td>\n",
       "      <td>0.794</td>\n",
       "    </tr>\n",
       "    <tr>\n",
       "      <th>4</th>\n",
       "      <td>Kernelized rbf</td>\n",
       "      <td>0.813</td>\n",
       "      <td>0.653</td>\n",
       "      <td>0.339</td>\n",
       "      <td>0.789</td>\n",
       "    </tr>\n",
       "    <tr>\n",
       "      <th>1</th>\n",
       "      <td>Logistic Regression</td>\n",
       "      <td>0.807</td>\n",
       "      <td>0.617</td>\n",
       "      <td>0.352</td>\n",
       "      <td>0.787</td>\n",
       "    </tr>\n",
       "    <tr>\n",
       "      <th>2</th>\n",
       "      <td>Linear SVC</td>\n",
       "      <td>0.807</td>\n",
       "      <td>0.623</td>\n",
       "      <td>0.329</td>\n",
       "      <td>0.783</td>\n",
       "    </tr>\n",
       "    <tr>\n",
       "      <th>0</th>\n",
       "      <td>KNN Classification</td>\n",
       "      <td>0.804</td>\n",
       "      <td>0.625</td>\n",
       "      <td>0.302</td>\n",
       "      <td>0.777</td>\n",
       "    </tr>\n",
       "    <tr>\n",
       "      <th>5</th>\n",
       "      <td>Kernelized Linear</td>\n",
       "      <td>0.807</td>\n",
       "      <td>0.691</td>\n",
       "      <td>0.235</td>\n",
       "      <td>0.767</td>\n",
       "    </tr>\n",
       "    <tr>\n",
       "      <th>6</th>\n",
       "      <td>Decision Tree</td>\n",
       "      <td>0.789</td>\n",
       "      <td>0.551</td>\n",
       "      <td>0.280</td>\n",
       "      <td>0.762</td>\n",
       "    </tr>\n",
       "  </tbody>\n",
       "</table>\n",
       "</div>"
      ],
      "text/plain": [
       "                Models  Test Accuracy  Precision  Recall  f1 Score\n",
       "3      Kernelized POLY          0.809      0.604   0.403     0.794\n",
       "4       Kernelized rbf          0.813      0.653   0.339     0.789\n",
       "1  Logistic Regression          0.807      0.617   0.352     0.787\n",
       "2           Linear SVC          0.807      0.623   0.329     0.783\n",
       "0   KNN Classification          0.804      0.625   0.302     0.777\n",
       "5    Kernelized Linear          0.807      0.691   0.235     0.767\n",
       "6        Decision Tree          0.789      0.551   0.280     0.762"
      ]
     },
     "execution_count": 81,
     "metadata": {},
     "output_type": "execute_result"
    }
   ],
   "source": [
    "models = pd.DataFrame({\n",
    "                'Models': ['KNN Classification','Logistic Regression','Linear SVC','Kernelized POLY','Kernelized rbf','Kernelized Linear','Decision Tree'],\n",
    "                'Test Accuracy':[knn_accuracy,logistic_accuracy,svc_accuracy,poly_accuracy,rbf_accuracy,linear_accuracy,tree_accuracy] ,\n",
    "                'Precision':[knn_precision,logistic_precision,svc_precision,poly_precision,rbf_precision,linear_precision,tree_precision],\n",
    "                'Recall': [knn_recall,logistic_recall,svc_recall,poly_recall,rbf_recall,linear_recall,tree_recall] ,\n",
    "                'f1 Score': [knn_f1score,logistic_f1score,svc_f1score,poly_f1score,rbf_f1score,linear_f1score,tree_f1score]})\n",
    "\n",
    "models.sort_values(by='f1 Score',ascending=False)"
   ]
  },
  {
   "cell_type": "markdown",
   "metadata": {},
   "source": [
    "<font size=2 color='Blue'> False Positive - Case when we predict that the user will be a defaulter next month but user pays on time.\n",
    "\n",
    "<font size=2 color='Blue'> False Negative - Case when we predict that the user won't be a defaulter next month but user doesn't pay credit card bill.\n",
    "\n",
    "<font size=2 color='Blue'> False Negative seems to be more problematic as company couldn't identify correct defaulters in advance and couldn't take appropriate steps.\n",
    "<font size=2 color='Blue'> Although, a False positive can also impact business and company might lose some old customers due to some measures taken in advance."
   ]
  },
  {
   "cell_type": "markdown",
   "metadata": {},
   "source": [
    "# <font size=2 color='Green'>If we decide to evaluate on basis of f1 score or recall, we see Kernelized POLY gives us best f1 score and recall, Kernelized POLY gives us the best f1 score, best recall and relatively better test accuracy and precision."
   ]
  },
  {
   "cell_type": "markdown",
   "metadata": {},
   "source": [
    "# <font size=2 color='Blue'> Running best model using best parameters."
   ]
  },
  {
   "cell_type": "code",
   "execution_count": 95,
   "metadata": {},
   "outputs": [],
   "source": [
    "best_model=grid_search_poly.best_estimator_\n",
    "y_pred_best=best_model.predict(x_test_sc)\n",
    "y_pred_best=pd.DataFrame(y_pred_best,columns=['Predicted_will_default'])"
   ]
  },
  {
   "cell_type": "code",
   "execution_count": 96,
   "metadata": {},
   "outputs": [
    {
     "name": "stdout",
     "output_type": "stream",
     "text": [
      "f1 score using best model: 0.794\n"
     ]
    }
   ],
   "source": [
    "best_f1score =  round(f1_score(y_test, y_pred_best,average='weighted', labels=np.unique(y_pred_best)),3)\n",
    "print(f'f1 score using best model: {best_f1score}')"
   ]
  },
  {
   "cell_type": "code",
   "execution_count": 100,
   "metadata": {},
   "outputs": [],
   "source": [
    "comparision_test=pd.concat([y_test.reset_index(drop=True),y_pred_best], axis=1, sort=False)"
   ]
  },
  {
   "cell_type": "code",
   "execution_count": 103,
   "metadata": {},
   "outputs": [
    {
     "data": {
      "text/html": [
       "<div>\n",
       "<style scoped>\n",
       "    .dataframe tbody tr th:only-of-type {\n",
       "        vertical-align: middle;\n",
       "    }\n",
       "\n",
       "    .dataframe tbody tr th {\n",
       "        vertical-align: top;\n",
       "    }\n",
       "\n",
       "    .dataframe thead th {\n",
       "        text-align: right;\n",
       "    }\n",
       "</style>\n",
       "<table border=\"1\" class=\"dataframe\">\n",
       "  <thead>\n",
       "    <tr style=\"text-align: right;\">\n",
       "      <th></th>\n",
       "      <th>will_default</th>\n",
       "      <th>Predicted_will_default</th>\n",
       "    </tr>\n",
       "  </thead>\n",
       "  <tbody>\n",
       "    <tr>\n",
       "      <th>0</th>\n",
       "      <td>0</td>\n",
       "      <td>0</td>\n",
       "    </tr>\n",
       "    <tr>\n",
       "      <th>1</th>\n",
       "      <td>1</td>\n",
       "      <td>1</td>\n",
       "    </tr>\n",
       "    <tr>\n",
       "      <th>2</th>\n",
       "      <td>0</td>\n",
       "      <td>0</td>\n",
       "    </tr>\n",
       "    <tr>\n",
       "      <th>3</th>\n",
       "      <td>0</td>\n",
       "      <td>0</td>\n",
       "    </tr>\n",
       "    <tr>\n",
       "      <th>4</th>\n",
       "      <td>0</td>\n",
       "      <td>0</td>\n",
       "    </tr>\n",
       "    <tr>\n",
       "      <th>5</th>\n",
       "      <td>0</td>\n",
       "      <td>0</td>\n",
       "    </tr>\n",
       "    <tr>\n",
       "      <th>6</th>\n",
       "      <td>0</td>\n",
       "      <td>0</td>\n",
       "    </tr>\n",
       "    <tr>\n",
       "      <th>7</th>\n",
       "      <td>1</td>\n",
       "      <td>0</td>\n",
       "    </tr>\n",
       "    <tr>\n",
       "      <th>8</th>\n",
       "      <td>0</td>\n",
       "      <td>0</td>\n",
       "    </tr>\n",
       "    <tr>\n",
       "      <th>9</th>\n",
       "      <td>0</td>\n",
       "      <td>0</td>\n",
       "    </tr>\n",
       "    <tr>\n",
       "      <th>10</th>\n",
       "      <td>0</td>\n",
       "      <td>0</td>\n",
       "    </tr>\n",
       "    <tr>\n",
       "      <th>11</th>\n",
       "      <td>0</td>\n",
       "      <td>0</td>\n",
       "    </tr>\n",
       "    <tr>\n",
       "      <th>12</th>\n",
       "      <td>0</td>\n",
       "      <td>0</td>\n",
       "    </tr>\n",
       "    <tr>\n",
       "      <th>13</th>\n",
       "      <td>1</td>\n",
       "      <td>1</td>\n",
       "    </tr>\n",
       "    <tr>\n",
       "      <th>14</th>\n",
       "      <td>0</td>\n",
       "      <td>0</td>\n",
       "    </tr>\n",
       "  </tbody>\n",
       "</table>\n",
       "</div>"
      ],
      "text/plain": [
       "    will_default  Predicted_will_default\n",
       "0              0                       0\n",
       "1              1                       1\n",
       "2              0                       0\n",
       "3              0                       0\n",
       "4              0                       0\n",
       "5              0                       0\n",
       "6              0                       0\n",
       "7              1                       0\n",
       "8              0                       0\n",
       "9              0                       0\n",
       "10             0                       0\n",
       "11             0                       0\n",
       "12             0                       0\n",
       "13             1                       1\n",
       "14             0                       0"
      ]
     },
     "execution_count": 103,
     "metadata": {},
     "output_type": "execute_result"
    }
   ],
   "source": [
    "comparision_test.head(15)"
   ]
  }
 ],
 "metadata": {
  "kernelspec": {
   "display_name": "Python 3",
   "language": "python",
   "name": "python3"
  },
  "language_info": {
   "codemirror_mode": {
    "name": "ipython",
    "version": 3
   },
   "file_extension": ".py",
   "mimetype": "text/x-python",
   "name": "python",
   "nbconvert_exporter": "python",
   "pygments_lexer": "ipython3",
   "version": "3.8.3"
  }
 },
 "nbformat": 4,
 "nbformat_minor": 4
}
